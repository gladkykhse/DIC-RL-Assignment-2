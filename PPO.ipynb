{
 "cells": [
  {
   "cell_type": "code",
   "execution_count": null,
   "id": "7028b247",
   "metadata": {},
   "outputs": [],
   "source": [
    "from pathlib import Path\n",
    "import random\n",
    "import subprocess\n",
    "import sys\n",
    "import torch\n",
    "import numpy as np\n",
    "from agents.ppo import PPOAgent\n",
    "from world.delivery_environment import Environment\n",
    "from world.grid import Grid"
   ]
  },
  {
   "cell_type": "code",
   "execution_count": null,
   "id": "87f23abf",
   "metadata": {},
   "outputs": [],
   "source": [
    "def train_agent(grid_fp, episodes=1000, max_steps=500, sigma=0.1, agent_start_pos=None):\n",
    "    cmd = [\n",
    "        sys.executable, \"train_ppo.py\",\n",
    "        str(grid_fp),\n",
    "        \"--no_gui\",\n",
    "        \"--episodes\", str(episodes),\n",
    "        \"--iter\", str(max_steps),\n",
    "        \"--sigma\", str(sigma),\n",
    "        \"--save_dir\", \"models\",\n",
    "    ]\n",
    "    if agent_start_pos is not None:\n",
    "        cmd += [\"--agent_start_pos\", f\"{agent_start_pos[0]},{agent_start_pos[1]}\"]\n",
    "    print(\"\\n▶\", \" \".join(map(str, cmd)))\n",
    "    subprocess.run(cmd, check=True)\n",
    "\n",
    "def load_agent(ckpt_path) -> PPOAgent:\n",
    "    ckpt = torch.load(ckpt_path, map_location=\"cpu\")\n",
    "    grid = Grid.load_grid(Path(ckpt[\"grid_fp\"])).cells\n",
    "    agent = PPOAgent(\n",
    "        n_rows = ckpt[\"n_rows\"],\n",
    "        n_cols = ckpt[\"n_cols\"],\n",
    "        grid = grid,\n",
    "        max_targets = ckpt[\"max_targets\"],\n",
    "    )\n",
    "    agent.policy_net.load_state_dict(ckpt[\"policy\"])\n",
    "    agent.value_net.load_state_dict(ckpt[\"value\"])\n",
    "    return agent\n",
    "\n",
    "def evaluate_saved(grid_fp, max_steps=500, sigma=0.1, agent_start_pos=None, random_seed=0):\n",
    "    random.seed(random_seed)\n",
    "    np.random.seed(random_seed)\n",
    "    torch.manual_seed(random_seed)\n",
    "    ckpt_path = Path(f\"models/PPO_{grid_fp.stem}.pt\")\n",
    "    if not ckpt_path.exists():\n",
    "        raise FileNotFoundError(f\"Checkpoint not found: {ckpt_path}\")\n",
    "    agent = load_agent(ckpt_path)\n",
    "    Environment.evaluate_agent(\n",
    "        grid_fp,\n",
    "        agent = agent,\n",
    "        max_steps = max_steps,\n",
    "        sigma = sigma,\n",
    "        show_images = False,\n",
    "        agent_start_pos=agent_start_pos,\n",
    "        random_seed=random_seed\n",
    "    )"
   ]
  },
  {
   "cell_type": "markdown",
   "id": "36e790a9",
   "metadata": {},
   "source": [
    "### small_grid"
   ]
  },
  {
   "cell_type": "code",
   "execution_count": null,
   "id": "1b52d27a",
   "metadata": {},
   "outputs": [],
   "source": [
    "# grid = Path(\"grid_configs/small_grid.npy\")\n",
    "# episodes = 1000\n",
    "# max_steps = 500\n",
    "# sigma = 0\n",
    "\n",
    "# train_agent(grid, episodes, max_steps, sigma)"
   ]
  },
  {
   "cell_type": "code",
   "execution_count": null,
   "id": "2bbd73fa",
   "metadata": {},
   "outputs": [],
   "source": [
    "grid = Path(\"grid_configs/small_grid.npy\")\n",
    "max_steps = 500\n",
    "sigma = 0\n",
    "random_seed = 42\n",
    "\n",
    "evaluate_saved(grid, max_steps, sigma, random_seed=random_seed)"
   ]
  },
  {
   "cell_type": "markdown",
   "id": "3ddacf1b",
   "metadata": {},
   "source": [
    "### small_grid_2"
   ]
  },
  {
   "cell_type": "code",
   "execution_count": null,
   "id": "e2ad836d",
   "metadata": {},
   "outputs": [],
   "source": [
    "# grid = Path(\"grid_configs/small_grid_2.npy\")\n",
    "# episodes = 1000\n",
    "# max_steps = 1000\n",
    "# sigma = 0\n",
    "\n",
    "# train_agent(grid, episodes, max_steps, sigma)"
   ]
  },
  {
   "cell_type": "code",
   "execution_count": null,
   "id": "85eb898c",
   "metadata": {},
   "outputs": [],
   "source": [
    "grid = Path(\"grid_configs/small_grid_2.npy\")\n",
    "max_steps = 500\n",
    "sigma = 0\n",
    "random_seed = 43\n",
    "\n",
    "evaluate_saved(grid, max_steps, sigma, random_seed=random_seed)"
   ]
  },
  {
   "cell_type": "markdown",
   "id": "017264a6",
   "metadata": {},
   "source": [
    "### custom_medium_grid_1"
   ]
  },
  {
   "cell_type": "code",
   "execution_count": null,
   "id": "5c70c2c1",
   "metadata": {},
   "outputs": [],
   "source": [
    "# grid = Path(\"grid_configs/custom_medium_grid_1.npy\")\n",
    "# episodes = 500\n",
    "# max_steps = 2000\n",
    "# sigma = 0\n",
    "\n",
    "# train_agent(grid, episodes, max_steps, sigma)"
   ]
  },
  {
   "cell_type": "code",
   "execution_count": null,
   "id": "7e908978",
   "metadata": {},
   "outputs": [],
   "source": [
    "grid = Path(\"grid_configs/custom_medium_grid_1.npy\")\n",
    "max_steps = 500\n",
    "sigma = 0\n",
    "start = (4, 6)\n",
    "# random_seed = 41\n",
    "\n",
    "evaluate_saved(grid, max_steps, sigma, start)"
   ]
  },
  {
   "cell_type": "markdown",
   "id": "5ee9a9b6",
   "metadata": {},
   "source": [
    "### custom_medium_grid_2"
   ]
  },
  {
   "cell_type": "code",
   "execution_count": null,
   "id": "3a9a70ad",
   "metadata": {},
   "outputs": [],
   "source": [
    "grid = Path(\"grid_configs/custom_medium_grid_2.npy\")\n",
    "episodes = 1000\n",
    "max_steps = 4000\n",
    "sigma = 0\n",
    "start = (4, 6)\n",
    "\n",
    "train_agent(grid, episodes, max_steps, sigma, start)"
   ]
  },
  {
   "cell_type": "code",
   "execution_count": null,
   "id": "6a3ad459",
   "metadata": {},
   "outputs": [],
   "source": [
    "grid = Path(\"grid_configs/custom_medium_grid_2.npy\")\n",
    "max_steps = 10000\n",
    "sigma = 0\n",
    "start = (4, 6)\n",
    "\n",
    "evaluate_saved(grid, max_steps, sigma, start)"
   ]
  }
 ],
 "metadata": {
  "kernelspec": {
   "display_name": ".venv",
   "language": "python",
   "name": "python3"
  },
  "language_info": {
   "codemirror_mode": {
    "name": "ipython",
    "version": 3
   },
   "file_extension": ".py",
   "mimetype": "text/x-python",
   "name": "python",
   "nbconvert_exporter": "python",
   "pygments_lexer": "ipython3",
   "version": "3.11.13"
  }
 },
 "nbformat": 4,
 "nbformat_minor": 5
}
